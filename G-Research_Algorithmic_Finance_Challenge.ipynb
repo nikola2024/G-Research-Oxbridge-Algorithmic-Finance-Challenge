{
 "cells": [
  {
   "cell_type": "markdown",
   "id": "b83e89c5",
   "metadata": {},
   "source": [
    "# G-Research Algorithmic Finance Challenge"
   ]
  },
  {
   "cell_type": "markdown",
   "id": "286ed938",
   "metadata": {},
   "source": [
    "### The goal of this challenge was to win as many hands of a Blackjack variant as possible whilst competing against opposing teams. Each team has to submit code written in Python which will then be executed on G-Research's servers along with the submissions of other teams."
   ]
  },
  {
   "cell_type": "markdown",
   "id": "8f1666a3",
   "metadata": {},
   "source": [
    "This was the setup of the challenge:\n",
    " - Rounds are run every 2-4 minutes for 120 minutes\n",
    " - Each round 10000 hands are played\n",
    " - Player order is shuffled before each hand, however the Dealer always goes last\n",
    " - A hand consists of each player taking it in turns to 'hit' or 'stick'\n",
    " - Like normal Blackjack (AKA 21), a player can 'hit' as many times as they like, stopping either by 'sticking' or by going bust\n",
    " - Unlike normal Blackjack, players start with no cards, will go bust if their cards total 1 or more, and each card has a uniformly random value (0, 1)\n",
    " - Also unlike normal Blackjack, the Dealer does not follow a published set of steps, it just follows the same game rules as everyone else and tries to win\n",
    " \n",
    "The scoring went as follows:\n",
    " - At the end of each round, teams are ranked based on hand wins\n",
    " - The team with the most hand wins gets X points, 2nd place gets X/2 points, 3rd place gets X/3, and so on\n",
    " - X is equal to the round number squared, i.e. 10000 in the first round, 40000 in the second, 90000 in the third, and so on.\n",
    " - Teams that are tied receive the same number of points, and then a gap is left in the rankings, i.e. if teams A & B tie for first, they both receive X points, and the next team C receives X/3 points\n",
    " - 10,000 hand rounds may be split into multiple sub-rounds of 2,500 hands or fewer - each sub-round is scored independently in this case\n",
    " - There is no cost to playing a round or hand, and there is no penalty for losing a hand."
   ]
  },
  {
   "cell_type": "markdown",
   "id": "9ec4ace1",
   "metadata": {},
   "source": [
    "For each hand a given team participates in, their Python submission is executed. The method  play_hand() is called (if defined correctly). This method allows for various other methods and variables included in the Challenge API to be used in order to implement the desired playing strategy:\n",
    " - hit(): a function you can invoke in order to take a card. It returns the value of your new card. It does not return a cumulative total\n",
    " - hand_number: an integer representing the current hand number in this round, indexed from 1\n",
    " - player_count: an integer count of the number of players in this round, including the dealer\n",
    " - current_hand:  list of named tuples, [(team_id: integer, cards: [float])] containing the cards that each team before you received, delivered as cumulative card totals. If a player didn't hit() at all, then the contents will be [0.0], otherwise it will contain the cumulative totals of their cards, e.g. for a player that hit() three times and went bust, the array would contain [0.0, 0.529, 0.82, 1.5]. The current_hand list will be empty if you are going first in the hand, or will contain player_count - 2 elements if you are playing just before the Dealer.\n",
    " team_order: list of integers representing the team ids of each player in this hand, in the order that they will play. This includes the dealer who will always appear last.\n",
    " - previous_hands: list of lists, [[(team_id: integer, cards: [float])]] containing the cumulative card totals, as described above, for all teams (including your team), but for all previous hands in this round\n",
    " - state: a dictionary that you can use to store cross-hand data. There is no equivalent for cross-round data available."
   ]
  },
  {
   "cell_type": "markdown",
   "id": "0010b02f",
   "metadata": {},
   "source": [
    "#### Below are given the submissions of our team throughout the durartion of the challenge"
   ]
  },
  {
   "cell_type": "code",
   "execution_count": null,
   "id": "c22a3a52",
   "metadata": {},
   "outputs": [],
   "source": [
    "# very first test\n",
    "\n",
    "def play_hand(hit, hand_number, player_count, current_hand, team_order, previous_hands, state):\n",
    "    score = hit()\n",
    "    if score < 0.5:\n",
    "        hit()"
   ]
  },
  {
   "cell_type": "markdown",
   "id": "127becce",
   "metadata": {},
   "source": [
    "This is the very first submission, used as test to get the hang of the software. We suspected that, since the expected value of a number chosen at random from a uniform distribution is 0.5, we should only hit if our current sum is below 0.5."
   ]
  },
  {
   "cell_type": "code",
   "execution_count": null,
   "id": "426c004e",
   "metadata": {},
   "outputs": [],
   "source": [
    "# version 0\n",
    "\n",
    "def play_hand(hit, hand_number, player_count, current_hand, team_order, previous_hands, state):\n",
    "    score = 0\n",
    "    while score < 0.5:\n",
    "        score += hit()"
   ]
  },
  {
   "cell_type": "markdown",
   "id": "baa31b5c",
   "metadata": {},
   "source": [
    "For our second submission, we noted that we either win or lose in this game, i.e., even if we don't go bust, we still lose if we don't have the highest sum at the end of the hand. Hence, we decided to hit if our current sum is below the highest winning, i.e., below 1, sum achieved by any of the teams before us in the hand. If we currently have the winning sum, we hit while our sum is below 0.5."
   ]
  },
  {
   "cell_type": "code",
   "execution_count": null,
   "id": "9093505a",
   "metadata": {},
   "outputs": [],
   "source": [
    "# version 1\n",
    "\n",
    "def play_hand(hit, hand_number, player_count, current_hand, team_order, previous_hands, state):\n",
    "    \n",
    "    # Find the winning score achieved by a team before us in the current hand:\n",
    "    best_score_so_far = 0\n",
    "    for team_info in current_hand:\n",
    "        team_score = team_info.cards[-1]\n",
    "        if team_score < 1 and team_score > best_score_so_far:\n",
    "            best_score_so_far = team_score\n",
    "    \n",
    "    score = 0\n",
    "    while score < 1:\n",
    "        score += hit()\n",
    "        if score > 0.5 and score > best_score_so_far:\n",
    "            return"
   ]
  },
  {
   "cell_type": "markdown",
   "id": "69eb01e0",
   "metadata": {},
   "source": [
    "For the next version, we decided that a good strategy would be to play more aggressively depending on how early our turn is in the current hand. Initially, we just set the goal for our sum (which was 0.5 in the previous two versions) to 0.9 if we were the first team to draw."
   ]
  },
  {
   "cell_type": "code",
   "execution_count": null,
   "id": "b1101d5f",
   "metadata": {},
   "outputs": [],
   "source": [
    "# version 2 - aggressive play\n",
    "\n",
    "def play_hand(hit, hand_number, player_count, current_hand, team_order, previous_hands, state):\n",
    "    \n",
    "    # Find the winning score achieved by a team before us in the current hand:\n",
    "    best_score_so_far = 0\n",
    "    for team_info in current_hand:\n",
    "        team_score = team_info.cards[-1]\n",
    "        if team_score < 1 and team_score > best_score_so_far:\n",
    "            best_score_so_far = team_score\n",
    "    \n",
    "    # Determine how many teams will draw before us in the current hand:\n",
    "    count_before = len(current_hand)\n",
    "    count_after = player_count - count_before - 1\n",
    "    \n",
    "    if count_before == 0:\n",
    "        goal = 0.9 # Set the aggressive goal if we are playing first in the hand\n",
    "    else:\n",
    "        goal = 0.5\n",
    "    \n",
    "    score = 0\n",
    "    while score < 1:\n",
    "        \n",
    "        card = hit()\n",
    "        score += card\n",
    "        \n",
    "        if score > goal and score > best_score_so_far:\n",
    "            return"
   ]
  },
  {
   "cell_type": "markdown",
   "id": "943997d6",
   "metadata": {},
   "source": [
    "We then improved the aggressive strategy by modifying the goal based on when exactly we are  going to draw in the current hand. If we were the first team to draw, we set the goal as 0.88, whereas if we were the last (right before the dealer), we set it at the usual 0.5. If we are somewhere in the middle of the order, we just vary the goal linearly from 0.88 to 0.5."
   ]
  },
  {
   "cell_type": "code",
   "execution_count": null,
   "id": "81359e48",
   "metadata": {},
   "outputs": [],
   "source": [
    "# version 2.1 - aggressive play, modified\n",
    "\n",
    "def play_hand(hit, hand_number, player_count, current_hand, team_order, previous_hands, state):\n",
    "    \n",
    "    # Find the winning score achieved by a team before us in the current hand:\n",
    "    best_score_so_far = 0\n",
    "    for team_info in current_hand:\n",
    "        team_score = team_info.cards[-1]\n",
    "        if team_score < 1 and team_score > best_score_so_far:\n",
    "            best_score_so_far = team_score\n",
    "    \n",
    "    # Determine how many teams will draw before us in the current hand:\n",
    "    count_before = len(current_hand)\n",
    "    count_after = player_count - count_before - 1\n",
    "    \n",
    "    # Set the goal based on our place in the current hand:\n",
    "    goal = 0.88 - ((0.88-0.5)/player_count) * count_before\n",
    "    \n",
    "    score = 0\n",
    "    while score < 1:\n",
    "        card = hit()\n",
    "        score += card\n",
    "        \n",
    "        if score > goal and score > best_score_so_far:\n",
    "            return"
   ]
  },
  {
   "cell_type": "markdown",
   "id": "b543f71c",
   "metadata": {},
   "source": [
    "For the next version, we decided a good strategy would be to determine our goal based on what the average winning sum was for the previous hands played in this round."
   ]
  },
  {
   "cell_type": "code",
   "execution_count": 1,
   "id": "e73d10a5",
   "metadata": {},
   "outputs": [],
   "source": [
    "# version 3 - dynamically change goal\n",
    "\n",
    "def play_hand(hit, hand_number, player_count, current_hand, team_order, previous_hands, state):\n",
    "\n",
    "    # Check if we are in the first hand played for the current round, and initialise the \n",
    "    # following entries in the cross-hand dictionary.\n",
    "    if len(previous_hands) == 1:\n",
    "        state['cumulative_win_score'] = 0\n",
    "        state['average_score'] = 0\n",
    "        print(previous_hands)\n",
    "        \n",
    "    # Analyse the previous hand if we are not in the first hand:\n",
    "    if len(previous_hands) > 1:\n",
    "        previous_hand = previous_hands[-1] # most recent hand played before the current\n",
    "        print(previous_hand)\n",
    "        previous_hand_winning_score = 0\n",
    "\n",
    "        # Determine the winning sum for this previous hand:\n",
    "        for team_info in previous_hand:\n",
    "            team_score = team_info.cards[-1]\n",
    "            if team_score < 1 and team_score > previous_hand_winning_score:\n",
    "                previous_hand_winning_score = team_score\n",
    "        \n",
    "        # Add this winning sum to the total of the winning sums across all previous hands:\n",
    "        state['cumulative_win_score'] += previous_hand_winning_score\n",
    "        # Calculate the new average winning sum:\n",
    "        state['average_score'] = state['cumulative_win_score']/len(previous_hands)\n",
    "    \n",
    "    print('Average_score: ', state['average_score'])\n",
    "    \n",
    "    # Find the winning score achieved by a team before us in the current hand:\n",
    "    best_score_so_far = 0\n",
    "    for team_info in current_hand:\n",
    "        team_score = team_info.cards[-1]\n",
    "        if team_score < 1 and team_score > best_score_so_far:\n",
    "            best_score_so_far = team_score\n",
    "    \n",
    "    # Determine how many teams will draw before us in the current hand:\n",
    "    count_before = len(current_hand)\n",
    "    count_after = player_count - count_before - 1\n",
    "    \n",
    "    # Set our goal for the sum:\n",
    "    if len(previous_hands) < 10:\n",
    "\n",
    "        # If we are playing one of the first 10 hands, set the goal to 0.87 since the average\n",
    "        # winning sum is not representative enough yet:\n",
    "        goal = 0.87\n",
    "    else:\n",
    "        # Otherwise, set the goal to the average winning sum, or lower depending on what place\n",
    "        # we draw in for this current hand:\n",
    "        goal = state['average_score'] - ((state['average_score']-0.5)/player_count) * count_before\n",
    "    \n",
    "    score = 0\n",
    "    while score < 1:\n",
    "        card = hit()\n",
    "        score += card\n",
    "        \n",
    "        if score > goal and score > best_score_so_far:\n",
    "            return"
   ]
  },
  {
   "cell_type": "markdown",
   "id": "ea1ca762",
   "metadata": {},
   "source": [
    "### Using the code above, our team was able to finish 2nd in the challenge out of roughly 25 teams. We played a total of 450,000 hands, and won 3.97% of them."
   ]
  }
 ],
 "metadata": {
  "kernelspec": {
   "display_name": "Python 3 (ipykernel)",
   "language": "python",
   "name": "python3"
  },
  "language_info": {
   "codemirror_mode": {
    "name": "ipython",
    "version": 3
   },
   "file_extension": ".py",
   "mimetype": "text/x-python",
   "name": "python",
   "nbconvert_exporter": "python",
   "pygments_lexer": "ipython3",
   "version": "3.8.12"
  }
 },
 "nbformat": 4,
 "nbformat_minor": 5
}
